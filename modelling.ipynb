{
 "cells": [
  {
   "cell_type": "markdown",
   "metadata": {},
   "source": [
    "# Building Predictive Models \n",
    "### for Click-Through Rate Prediction by Avazu\n",
    "*Phong Nguyen, July 2019*"
   ]
  },
  {
   "cell_type": "markdown",
   "metadata": {},
   "source": [
    "To recap from the previous EDA, we are tasked to build a **binary classification model** to predict the probability of an ad being clicked. In this notebook, I will go through a process of feature engineering, model training, parameter tunning and making predictions. \n",
    "\n",
    "As the dataset is huge, I will use a small sample of 100,000 events for faster processing. Then use the tuned parameters to build a model with a full dataset later. I also iteratively go through the model building process rather than doing exhaustive feature engineering first."
   ]
  },
  {
   "cell_type": "markdown",
   "metadata": {},
   "source": [
    "## Data loading and formatting"
   ]
  },
  {
   "cell_type": "code",
   "execution_count": 1,
   "metadata": {},
   "outputs": [
    {
     "name": "stderr",
     "output_type": "stream",
     "text": [
      "/anaconda3/lib/python3.6/site-packages/lightgbm/__init__.py:46: UserWarning: Starting from version 2.2.1, the library file in distribution wheels for macOS is built by the Apple Clang (Xcode_8.3.3) compiler.\n",
      "This means that in case of installing LightGBM from PyPI via the ``pip install lightgbm`` command, you don't need to install the gcc compiler anymore.\n",
      "Instead of that, you need to install the OpenMP library, which is required for running LightGBM on the system with the Apple Clang compiler.\n",
      "You can install the OpenMP library by the following command: ``brew install libomp``.\n",
      "  \"You can install the OpenMP library by the following command: ``brew install libomp``.\", UserWarning)\n"
     ]
    }
   ],
   "source": [
    "import pandas as pd\n",
    "import numpy as np\n",
    "\n",
    "from scipy.sparse import hstack\n",
    "\n",
    "from sklearn.model_selection import cross_val_score\n",
    "from sklearn.preprocessing import StandardScaler, OneHotEncoder\n",
    "from sklearn.feature_extraction import FeatureHasher\n",
    "\n",
    "from sklearn.linear_model import LogisticRegression\n",
    "from sklearn.ensemble import RandomForestClassifier\n",
    "\n",
    "from sklearn.model_selection import GridSearchCV\n",
    "from sklearn.metrics import log_loss\n",
    "\n",
    "import xgboost as xgb\n",
    "import lightgbm as lgb\n",
    "\n",
    "import gzip\n",
    "import pickle"
   ]
  },
  {
   "cell_type": "code",
   "execution_count": 2,
   "metadata": {},
   "outputs": [],
   "source": [
    " # Will save the sample to a file for faster loading later\n",
    "train_size = 40428967\n",
    "already_sample = False\n",
    "\n",
    "if already_sample:\n",
    "    sample = pd.read_csv('sample-100k.csv', index_col=0)\n",
    "else:\n",
    "    sample_size = 10**5\n",
    "    skip = sorted(np.random.choice(np.arange(1, train_size + 1), train_size - sample_size, replace=False))\n",
    "    sample = pd.read_csv('train', skiprows=skip, index_col=0)\n",
    "    sample.to_csv('sample-100k.csv')"
   ]
  },
  {
   "cell_type": "code",
   "execution_count": 3,
   "metadata": {},
   "outputs": [],
   "source": [
    "def format_data(sample):\n",
    "    cat_attribs = sorted(set(sample.columns) - { 'hour', 'click' })\n",
    "    for c in cat_attribs:\n",
    "        sample[c] = sample[c].astype('category')\n",
    "\n",
    "    sample['hour'] = pd.to_datetime(sample['hour'], format='%y%m%d%H')\n",
    "    sample['click'] = sample['click'].astype(np.uint8)\n",
    "    \n",
    "    return sample"
   ]
  },
  {
   "cell_type": "code",
   "execution_count": 4,
   "metadata": {},
   "outputs": [],
   "source": [
    "sample = format_data(sample)"
   ]
  },
  {
   "cell_type": "code",
   "execution_count": 5,
   "metadata": {},
   "outputs": [
    {
     "data": {
      "text/html": [
       "<div>\n",
       "<style scoped>\n",
       "    .dataframe tbody tr th:only-of-type {\n",
       "        vertical-align: middle;\n",
       "    }\n",
       "\n",
       "    .dataframe tbody tr th {\n",
       "        vertical-align: top;\n",
       "    }\n",
       "\n",
       "    .dataframe thead th {\n",
       "        text-align: right;\n",
       "    }\n",
       "</style>\n",
       "<table border=\"1\" class=\"dataframe\">\n",
       "  <thead>\n",
       "    <tr style=\"text-align: right;\">\n",
       "      <th></th>\n",
       "      <th>count</th>\n",
       "      <th>unique</th>\n",
       "      <th>top</th>\n",
       "      <th>freq</th>\n",
       "      <th>first</th>\n",
       "      <th>last</th>\n",
       "      <th>mean</th>\n",
       "      <th>std</th>\n",
       "      <th>min</th>\n",
       "      <th>25%</th>\n",
       "      <th>50%</th>\n",
       "      <th>75%</th>\n",
       "      <th>max</th>\n",
       "    </tr>\n",
       "  </thead>\n",
       "  <tbody>\n",
       "    <tr>\n",
       "      <th>click</th>\n",
       "      <td>100000</td>\n",
       "      <td>NaN</td>\n",
       "      <td>NaN</td>\n",
       "      <td>NaN</td>\n",
       "      <td>NaN</td>\n",
       "      <td>NaN</td>\n",
       "      <td>0.17038</td>\n",
       "      <td>0.375968</td>\n",
       "      <td>0</td>\n",
       "      <td>0</td>\n",
       "      <td>0</td>\n",
       "      <td>0</td>\n",
       "      <td>1</td>\n",
       "    </tr>\n",
       "    <tr>\n",
       "      <th>hour</th>\n",
       "      <td>100000</td>\n",
       "      <td>240</td>\n",
       "      <td>2014-10-22 09:00:00</td>\n",
       "      <td>1086</td>\n",
       "      <td>2014-10-21 00:00:00</td>\n",
       "      <td>2014-10-30 23:00:00</td>\n",
       "      <td>NaN</td>\n",
       "      <td>NaN</td>\n",
       "      <td>NaN</td>\n",
       "      <td>NaN</td>\n",
       "      <td>NaN</td>\n",
       "      <td>NaN</td>\n",
       "      <td>NaN</td>\n",
       "    </tr>\n",
       "    <tr>\n",
       "      <th>C1</th>\n",
       "      <td>100000</td>\n",
       "      <td>7</td>\n",
       "      <td>1005</td>\n",
       "      <td>91932</td>\n",
       "      <td>NaN</td>\n",
       "      <td>NaN</td>\n",
       "      <td>NaN</td>\n",
       "      <td>NaN</td>\n",
       "      <td>NaN</td>\n",
       "      <td>NaN</td>\n",
       "      <td>NaN</td>\n",
       "      <td>NaN</td>\n",
       "      <td>NaN</td>\n",
       "    </tr>\n",
       "    <tr>\n",
       "      <th>banner_pos</th>\n",
       "      <td>100000</td>\n",
       "      <td>7</td>\n",
       "      <td>0</td>\n",
       "      <td>72118</td>\n",
       "      <td>NaN</td>\n",
       "      <td>NaN</td>\n",
       "      <td>NaN</td>\n",
       "      <td>NaN</td>\n",
       "      <td>NaN</td>\n",
       "      <td>NaN</td>\n",
       "      <td>NaN</td>\n",
       "      <td>NaN</td>\n",
       "      <td>NaN</td>\n",
       "    </tr>\n",
       "    <tr>\n",
       "      <th>site_id</th>\n",
       "      <td>100000</td>\n",
       "      <td>1465</td>\n",
       "      <td>85f751fd</td>\n",
       "      <td>36013</td>\n",
       "      <td>NaN</td>\n",
       "      <td>NaN</td>\n",
       "      <td>NaN</td>\n",
       "      <td>NaN</td>\n",
       "      <td>NaN</td>\n",
       "      <td>NaN</td>\n",
       "      <td>NaN</td>\n",
       "      <td>NaN</td>\n",
       "      <td>NaN</td>\n",
       "    </tr>\n",
       "    <tr>\n",
       "      <th>site_domain</th>\n",
       "      <td>100000</td>\n",
       "      <td>1319</td>\n",
       "      <td>c4e18dd6</td>\n",
       "      <td>37326</td>\n",
       "      <td>NaN</td>\n",
       "      <td>NaN</td>\n",
       "      <td>NaN</td>\n",
       "      <td>NaN</td>\n",
       "      <td>NaN</td>\n",
       "      <td>NaN</td>\n",
       "      <td>NaN</td>\n",
       "      <td>NaN</td>\n",
       "      <td>NaN</td>\n",
       "    </tr>\n",
       "    <tr>\n",
       "      <th>site_category</th>\n",
       "      <td>100000</td>\n",
       "      <td>20</td>\n",
       "      <td>50e219e0</td>\n",
       "      <td>40785</td>\n",
       "      <td>NaN</td>\n",
       "      <td>NaN</td>\n",
       "      <td>NaN</td>\n",
       "      <td>NaN</td>\n",
       "      <td>NaN</td>\n",
       "      <td>NaN</td>\n",
       "      <td>NaN</td>\n",
       "      <td>NaN</td>\n",
       "      <td>NaN</td>\n",
       "    </tr>\n",
       "    <tr>\n",
       "      <th>app_id</th>\n",
       "      <td>100000</td>\n",
       "      <td>1272</td>\n",
       "      <td>ecad2386</td>\n",
       "      <td>63987</td>\n",
       "      <td>NaN</td>\n",
       "      <td>NaN</td>\n",
       "      <td>NaN</td>\n",
       "      <td>NaN</td>\n",
       "      <td>NaN</td>\n",
       "      <td>NaN</td>\n",
       "      <td>NaN</td>\n",
       "      <td>NaN</td>\n",
       "      <td>NaN</td>\n",
       "    </tr>\n",
       "    <tr>\n",
       "      <th>app_domain</th>\n",
       "      <td>100000</td>\n",
       "      <td>91</td>\n",
       "      <td>7801e8d9</td>\n",
       "      <td>67415</td>\n",
       "      <td>NaN</td>\n",
       "      <td>NaN</td>\n",
       "      <td>NaN</td>\n",
       "      <td>NaN</td>\n",
       "      <td>NaN</td>\n",
       "      <td>NaN</td>\n",
       "      <td>NaN</td>\n",
       "      <td>NaN</td>\n",
       "      <td>NaN</td>\n",
       "    </tr>\n",
       "    <tr>\n",
       "      <th>app_category</th>\n",
       "      <td>100000</td>\n",
       "      <td>23</td>\n",
       "      <td>07d7df22</td>\n",
       "      <td>64785</td>\n",
       "      <td>NaN</td>\n",
       "      <td>NaN</td>\n",
       "      <td>NaN</td>\n",
       "      <td>NaN</td>\n",
       "      <td>NaN</td>\n",
       "      <td>NaN</td>\n",
       "      <td>NaN</td>\n",
       "      <td>NaN</td>\n",
       "      <td>NaN</td>\n",
       "    </tr>\n",
       "    <tr>\n",
       "      <th>device_id</th>\n",
       "      <td>100000</td>\n",
       "      <td>16695</td>\n",
       "      <td>a99f214a</td>\n",
       "      <td>82639</td>\n",
       "      <td>NaN</td>\n",
       "      <td>NaN</td>\n",
       "      <td>NaN</td>\n",
       "      <td>NaN</td>\n",
       "      <td>NaN</td>\n",
       "      <td>NaN</td>\n",
       "      <td>NaN</td>\n",
       "      <td>NaN</td>\n",
       "      <td>NaN</td>\n",
       "    </tr>\n",
       "    <tr>\n",
       "      <th>device_ip</th>\n",
       "      <td>100000</td>\n",
       "      <td>78074</td>\n",
       "      <td>6b9769f2</td>\n",
       "      <td>519</td>\n",
       "      <td>NaN</td>\n",
       "      <td>NaN</td>\n",
       "      <td>NaN</td>\n",
       "      <td>NaN</td>\n",
       "      <td>NaN</td>\n",
       "      <td>NaN</td>\n",
       "      <td>NaN</td>\n",
       "      <td>NaN</td>\n",
       "      <td>NaN</td>\n",
       "    </tr>\n",
       "    <tr>\n",
       "      <th>device_model</th>\n",
       "      <td>100000</td>\n",
       "      <td>3161</td>\n",
       "      <td>8a4875bd</td>\n",
       "      <td>6019</td>\n",
       "      <td>NaN</td>\n",
       "      <td>NaN</td>\n",
       "      <td>NaN</td>\n",
       "      <td>NaN</td>\n",
       "      <td>NaN</td>\n",
       "      <td>NaN</td>\n",
       "      <td>NaN</td>\n",
       "      <td>NaN</td>\n",
       "      <td>NaN</td>\n",
       "    </tr>\n",
       "    <tr>\n",
       "      <th>device_type</th>\n",
       "      <td>100000</td>\n",
       "      <td>4</td>\n",
       "      <td>1</td>\n",
       "      <td>92363</td>\n",
       "      <td>NaN</td>\n",
       "      <td>NaN</td>\n",
       "      <td>NaN</td>\n",
       "      <td>NaN</td>\n",
       "      <td>NaN</td>\n",
       "      <td>NaN</td>\n",
       "      <td>NaN</td>\n",
       "      <td>NaN</td>\n",
       "      <td>NaN</td>\n",
       "    </tr>\n",
       "    <tr>\n",
       "      <th>device_conn_type</th>\n",
       "      <td>100000</td>\n",
       "      <td>4</td>\n",
       "      <td>0</td>\n",
       "      <td>86320</td>\n",
       "      <td>NaN</td>\n",
       "      <td>NaN</td>\n",
       "      <td>NaN</td>\n",
       "      <td>NaN</td>\n",
       "      <td>NaN</td>\n",
       "      <td>NaN</td>\n",
       "      <td>NaN</td>\n",
       "      <td>NaN</td>\n",
       "      <td>NaN</td>\n",
       "    </tr>\n",
       "    <tr>\n",
       "      <th>C14</th>\n",
       "      <td>100000</td>\n",
       "      <td>1706</td>\n",
       "      <td>4687</td>\n",
       "      <td>2344</td>\n",
       "      <td>NaN</td>\n",
       "      <td>NaN</td>\n",
       "      <td>NaN</td>\n",
       "      <td>NaN</td>\n",
       "      <td>NaN</td>\n",
       "      <td>NaN</td>\n",
       "      <td>NaN</td>\n",
       "      <td>NaN</td>\n",
       "      <td>NaN</td>\n",
       "    </tr>\n",
       "    <tr>\n",
       "      <th>C15</th>\n",
       "      <td>100000</td>\n",
       "      <td>8</td>\n",
       "      <td>320</td>\n",
       "      <td>93238</td>\n",
       "      <td>NaN</td>\n",
       "      <td>NaN</td>\n",
       "      <td>NaN</td>\n",
       "      <td>NaN</td>\n",
       "      <td>NaN</td>\n",
       "      <td>NaN</td>\n",
       "      <td>NaN</td>\n",
       "      <td>NaN</td>\n",
       "      <td>NaN</td>\n",
       "    </tr>\n",
       "    <tr>\n",
       "      <th>C16</th>\n",
       "      <td>100000</td>\n",
       "      <td>9</td>\n",
       "      <td>50</td>\n",
       "      <td>94331</td>\n",
       "      <td>NaN</td>\n",
       "      <td>NaN</td>\n",
       "      <td>NaN</td>\n",
       "      <td>NaN</td>\n",
       "      <td>NaN</td>\n",
       "      <td>NaN</td>\n",
       "      <td>NaN</td>\n",
       "      <td>NaN</td>\n",
       "      <td>NaN</td>\n",
       "    </tr>\n",
       "    <tr>\n",
       "      <th>C17</th>\n",
       "      <td>100000</td>\n",
       "      <td>400</td>\n",
       "      <td>1722</td>\n",
       "      <td>10948</td>\n",
       "      <td>NaN</td>\n",
       "      <td>NaN</td>\n",
       "      <td>NaN</td>\n",
       "      <td>NaN</td>\n",
       "      <td>NaN</td>\n",
       "      <td>NaN</td>\n",
       "      <td>NaN</td>\n",
       "      <td>NaN</td>\n",
       "      <td>NaN</td>\n",
       "    </tr>\n",
       "    <tr>\n",
       "      <th>C18</th>\n",
       "      <td>100000</td>\n",
       "      <td>4</td>\n",
       "      <td>0</td>\n",
       "      <td>41839</td>\n",
       "      <td>NaN</td>\n",
       "      <td>NaN</td>\n",
       "      <td>NaN</td>\n",
       "      <td>NaN</td>\n",
       "      <td>NaN</td>\n",
       "      <td>NaN</td>\n",
       "      <td>NaN</td>\n",
       "      <td>NaN</td>\n",
       "      <td>NaN</td>\n",
       "    </tr>\n",
       "    <tr>\n",
       "      <th>C19</th>\n",
       "      <td>100000</td>\n",
       "      <td>63</td>\n",
       "      <td>35</td>\n",
       "      <td>29933</td>\n",
       "      <td>NaN</td>\n",
       "      <td>NaN</td>\n",
       "      <td>NaN</td>\n",
       "      <td>NaN</td>\n",
       "      <td>NaN</td>\n",
       "      <td>NaN</td>\n",
       "      <td>NaN</td>\n",
       "      <td>NaN</td>\n",
       "      <td>NaN</td>\n",
       "    </tr>\n",
       "    <tr>\n",
       "      <th>C20</th>\n",
       "      <td>100000</td>\n",
       "      <td>154</td>\n",
       "      <td>-1</td>\n",
       "      <td>46813</td>\n",
       "      <td>NaN</td>\n",
       "      <td>NaN</td>\n",
       "      <td>NaN</td>\n",
       "      <td>NaN</td>\n",
       "      <td>NaN</td>\n",
       "      <td>NaN</td>\n",
       "      <td>NaN</td>\n",
       "      <td>NaN</td>\n",
       "      <td>NaN</td>\n",
       "    </tr>\n",
       "    <tr>\n",
       "      <th>C21</th>\n",
       "      <td>100000</td>\n",
       "      <td>60</td>\n",
       "      <td>23</td>\n",
       "      <td>22038</td>\n",
       "      <td>NaN</td>\n",
       "      <td>NaN</td>\n",
       "      <td>NaN</td>\n",
       "      <td>NaN</td>\n",
       "      <td>NaN</td>\n",
       "      <td>NaN</td>\n",
       "      <td>NaN</td>\n",
       "      <td>NaN</td>\n",
       "      <td>NaN</td>\n",
       "    </tr>\n",
       "  </tbody>\n",
       "</table>\n",
       "</div>"
      ],
      "text/plain": [
       "                   count unique                  top   freq  \\\n",
       "click             100000    NaN                  NaN    NaN   \n",
       "hour              100000    240  2014-10-22 09:00:00   1086   \n",
       "C1                100000      7                 1005  91932   \n",
       "banner_pos        100000      7                    0  72118   \n",
       "site_id           100000   1465             85f751fd  36013   \n",
       "site_domain       100000   1319             c4e18dd6  37326   \n",
       "site_category     100000     20             50e219e0  40785   \n",
       "app_id            100000   1272             ecad2386  63987   \n",
       "app_domain        100000     91             7801e8d9  67415   \n",
       "app_category      100000     23             07d7df22  64785   \n",
       "device_id         100000  16695             a99f214a  82639   \n",
       "device_ip         100000  78074             6b9769f2    519   \n",
       "device_model      100000   3161             8a4875bd   6019   \n",
       "device_type       100000      4                    1  92363   \n",
       "device_conn_type  100000      4                    0  86320   \n",
       "C14               100000   1706                 4687   2344   \n",
       "C15               100000      8                  320  93238   \n",
       "C16               100000      9                   50  94331   \n",
       "C17               100000    400                 1722  10948   \n",
       "C18               100000      4                    0  41839   \n",
       "C19               100000     63                   35  29933   \n",
       "C20               100000    154                   -1  46813   \n",
       "C21               100000     60                   23  22038   \n",
       "\n",
       "                                first                 last     mean       std  \\\n",
       "click                             NaN                  NaN  0.17038  0.375968   \n",
       "hour              2014-10-21 00:00:00  2014-10-30 23:00:00      NaN       NaN   \n",
       "C1                                NaN                  NaN      NaN       NaN   \n",
       "banner_pos                        NaN                  NaN      NaN       NaN   \n",
       "site_id                           NaN                  NaN      NaN       NaN   \n",
       "site_domain                       NaN                  NaN      NaN       NaN   \n",
       "site_category                     NaN                  NaN      NaN       NaN   \n",
       "app_id                            NaN                  NaN      NaN       NaN   \n",
       "app_domain                        NaN                  NaN      NaN       NaN   \n",
       "app_category                      NaN                  NaN      NaN       NaN   \n",
       "device_id                         NaN                  NaN      NaN       NaN   \n",
       "device_ip                         NaN                  NaN      NaN       NaN   \n",
       "device_model                      NaN                  NaN      NaN       NaN   \n",
       "device_type                       NaN                  NaN      NaN       NaN   \n",
       "device_conn_type                  NaN                  NaN      NaN       NaN   \n",
       "C14                               NaN                  NaN      NaN       NaN   \n",
       "C15                               NaN                  NaN      NaN       NaN   \n",
       "C16                               NaN                  NaN      NaN       NaN   \n",
       "C17                               NaN                  NaN      NaN       NaN   \n",
       "C18                               NaN                  NaN      NaN       NaN   \n",
       "C19                               NaN                  NaN      NaN       NaN   \n",
       "C20                               NaN                  NaN      NaN       NaN   \n",
       "C21                               NaN                  NaN      NaN       NaN   \n",
       "\n",
       "                  min  25%  50%  75%  max  \n",
       "click               0    0    0    0    1  \n",
       "hour              NaN  NaN  NaN  NaN  NaN  \n",
       "C1                NaN  NaN  NaN  NaN  NaN  \n",
       "banner_pos        NaN  NaN  NaN  NaN  NaN  \n",
       "site_id           NaN  NaN  NaN  NaN  NaN  \n",
       "site_domain       NaN  NaN  NaN  NaN  NaN  \n",
       "site_category     NaN  NaN  NaN  NaN  NaN  \n",
       "app_id            NaN  NaN  NaN  NaN  NaN  \n",
       "app_domain        NaN  NaN  NaN  NaN  NaN  \n",
       "app_category      NaN  NaN  NaN  NaN  NaN  \n",
       "device_id         NaN  NaN  NaN  NaN  NaN  \n",
       "device_ip         NaN  NaN  NaN  NaN  NaN  \n",
       "device_model      NaN  NaN  NaN  NaN  NaN  \n",
       "device_type       NaN  NaN  NaN  NaN  NaN  \n",
       "device_conn_type  NaN  NaN  NaN  NaN  NaN  \n",
       "C14               NaN  NaN  NaN  NaN  NaN  \n",
       "C15               NaN  NaN  NaN  NaN  NaN  \n",
       "C16               NaN  NaN  NaN  NaN  NaN  \n",
       "C17               NaN  NaN  NaN  NaN  NaN  \n",
       "C18               NaN  NaN  NaN  NaN  NaN  \n",
       "C19               NaN  NaN  NaN  NaN  NaN  \n",
       "C20               NaN  NaN  NaN  NaN  NaN  \n",
       "C21               NaN  NaN  NaN  NaN  NaN  "
      ]
     },
     "execution_count": 5,
     "metadata": {},
     "output_type": "execute_result"
    }
   ],
   "source": [
    "sample.describe(include='all').T"
   ]
  },
  {
   "cell_type": "markdown",
   "metadata": {},
   "source": [
    "## Building a first simple model\n",
    "\n",
    "As we need to submit the probability of the prediction, **Logistic Regression** is a good first choice. I will build a first simple model with one attribute. `banner_pos` looks like a reasonable choice as the position of an ad can play a role in it being clicked. \n",
    "\n",
    "The performance metric is **logloss** as chosen by the competition organiser."
   ]
  },
  {
   "cell_type": "code",
   "execution_count": 6,
   "metadata": {},
   "outputs": [
    {
     "name": "stdout",
     "output_type": "stream",
     "text": [
      "Model with banner_pos: 0.45624931576686867\n"
     ]
    }
   ],
   "source": [
    "labels = sample['click']\n",
    "\n",
    "cat_attribs = ['banner_pos']\n",
    "train_data = sample[cat_attribs]\n",
    "onehot = OneHotEncoder(categories='auto', handle_unknown='ignore').fit(train_data)\n",
    "train_data_prepared = onehot.transform(train_data)\n",
    "\n",
    "logreg = LogisticRegression(solver='lbfgs', max_iter=500)\n",
    "s = cross_val_score(logreg, train_data_prepared, labels, scoring='neg_log_loss', cv=5).mean()\n",
    "print('Model with banner_pos:', -s)"
   ]
  },
  {
   "cell_type": "markdown",
   "metadata": {},
   "source": [
    "OK, so what is the logloss for a naive model that always predicts the mean of CTR."
   ]
  },
  {
   "cell_type": "code",
   "execution_count": 7,
   "metadata": {},
   "outputs": [
    {
     "name": "stdout",
     "output_type": "stream",
     "text": [
      "Model predicting mean: 0.45648823999656146\n"
     ]
    }
   ],
   "source": [
    "m = labels.mean()\n",
    "print('Model predicting mean:', log_loss(labels, [m] * len(labels)))"
   ]
  },
  {
   "cell_type": "markdown",
   "metadata": {},
   "source": [
    "Well, the naive mean model is just a little bit worse than my first model with `banner_pos`. Good start anyway. I want to make a kaggle submission."
   ]
  },
  {
   "cell_type": "code",
   "execution_count": 8,
   "metadata": {},
   "outputs": [
    {
     "name": "stdout",
     "output_type": "stream",
     "text": [
      "<class 'pandas.core.frame.DataFrame'>\n",
      "RangeIndex: 4577464 entries, 0 to 4577463\n",
      "Data columns (total 23 columns):\n",
      "id                  uint64\n",
      "hour                int64\n",
      "C1                  int64\n",
      "banner_pos          int64\n",
      "site_id             object\n",
      "site_domain         object\n",
      "site_category       object\n",
      "app_id              object\n",
      "app_domain          object\n",
      "app_category        object\n",
      "device_id           object\n",
      "device_ip           object\n",
      "device_model        object\n",
      "device_type         int64\n",
      "device_conn_type    int64\n",
      "C14                 int64\n",
      "C15                 int64\n",
      "C16                 int64\n",
      "C17                 int64\n",
      "C18                 int64\n",
      "C19                 int64\n",
      "C20                 int64\n",
      "C21                 int64\n",
      "dtypes: int64(13), object(9), uint64(1)\n",
      "memory usage: 803.2+ MB\n"
     ]
    }
   ],
   "source": [
    "click_data_test = pd.read_csv('test', dtype={ 'id': np.uint64 })\n",
    "click_data_test.info()"
   ]
  },
  {
   "cell_type": "code",
   "execution_count": 9,
   "metadata": {},
   "outputs": [
    {
     "data": {
      "text/plain": [
       "array([[0.83528146, 0.16471854],\n",
       "       [0.83528146, 0.16471854],\n",
       "       [0.83528146, 0.16471854],\n",
       "       ...,\n",
       "       [0.83528146, 0.16471854],\n",
       "       [0.83528146, 0.16471854],\n",
       "       [0.83528146, 0.16471854]])"
      ]
     },
     "execution_count": 9,
     "metadata": {},
     "output_type": "execute_result"
    }
   ],
   "source": [
    "test_data = click_data_test[cat_attribs]\n",
    "test_data_prepared = onehot.transform(test_data)\n",
    "logreg.fit(train_data_prepared, labels)\n",
    "preds = logreg.predict_proba(test_data_prepared)\n",
    "preds"
   ]
  },
  {
   "cell_type": "markdown",
   "metadata": {},
   "source": [
    "OK, submit the second column. Export to csv then zip the file for fast uploading."
   ]
  },
  {
   "cell_type": "code",
   "execution_count": 10,
   "metadata": {},
   "outputs": [],
   "source": [
    "def generate_submission_file(preds, data=click_data_test):\n",
    "    df = pd.DataFrame({ 'id': data['id'].values, 'click': preds[:, 1] })\n",
    "    df.set_index('id', inplace=True)\n",
    "    \n",
    "    with gzip.open('submission.gz', 'wt') as f:\n",
    "        f.write(df.to_csv())\n",
    "    \n",
    "generate_submission_file(preds)"
   ]
  },
  {
   "cell_type": "markdown",
   "metadata": {},
   "source": [
    "I got **0.44091** for public leaderboard and a projected rank of 1387. At least, I got some ranking now and a baseline to improve. We save the model and keep track of its metadata."
   ]
  },
  {
   "cell_type": "code",
   "execution_count": 11,
   "metadata": {},
   "outputs": [],
   "source": [
    "all_models = [] # Store model name, information, logloss, projected rank, training size"
   ]
  },
  {
   "cell_type": "code",
   "execution_count": 12,
   "metadata": {},
   "outputs": [],
   "source": [
    "def save_model(m, info, logloss, rank, size=len(sample)):\n",
    "    filename = 'model-' + str(len(all_models) + 1) + '.pkl'\n",
    "    with open(filename, 'wb') as f:\n",
    "        pickle.dump(m, f)\n",
    "    all_models.append((filename, info, logloss, rank, size))\n",
    "    \n",
    "save_model(logreg, 'banner_pos only', 0.44091, 1387)"
   ]
  },
  {
   "cell_type": "code",
   "execution_count": 13,
   "metadata": {},
   "outputs": [
    {
     "data": {
      "text/plain": [
       "[('model-1.pkl', 'banner_pos only', 0.44091, 1387, 100000)]"
      ]
     },
     "execution_count": 13,
     "metadata": {},
     "output_type": "execute_result"
    }
   ],
   "source": [
    "all_models"
   ]
  },
  {
   "cell_type": "markdown",
   "metadata": {},
   "source": [
    "## Improving the model with feature engineering\n",
    "### Low-cardinality categorical features\n",
    "Next is to add more categorical features to the model, starting with low-cardinality ones as `banner_pos` before."
   ]
  },
  {
   "cell_type": "code",
   "execution_count": 14,
   "metadata": {},
   "outputs": [
    {
     "name": "stdout",
     "output_type": "stream",
     "text": [
      "Model with low-cardinality attributes: 0.43247418615169614\n"
     ]
    }
   ],
   "source": [
    "cat_attribs = ['banner_pos', 'site_category', 'app_category', 'device_type', 'device_conn_type', 'C1', 'C15', 'C16', 'C18']\n",
    "train_data = sample[cat_attribs]\n",
    "onehot = OneHotEncoder(categories='auto', handle_unknown='ignore').fit(train_data)\n",
    "train_data_prepared = onehot.transform(train_data)\n",
    "\n",
    "logreg = LogisticRegression(solver='lbfgs', max_iter=500)\n",
    "s = cross_val_score(logreg, train_data_prepared, labels, scoring='neg_log_loss', cv=5).mean()\n",
    "print('Model with low-cardinality attributes:', -s)"
   ]
  },
  {
   "cell_type": "markdown",
   "metadata": {},
   "source": [
    "Great! The score gets lower than before. Make the second submission now."
   ]
  },
  {
   "cell_type": "code",
   "execution_count": 15,
   "metadata": {},
   "outputs": [],
   "source": [
    "test_data = click_data_test[cat_attribs]\n",
    "test_data_prepared = onehot.transform(test_data)\n",
    "logreg.fit(train_data_prepared, labels)\n",
    "preds = logreg.predict_proba(test_data_prepared)\n",
    "generate_submission_file(preds)"
   ]
  },
  {
   "cell_type": "markdown",
   "metadata": {},
   "source": [
    "PL 0.41861, well much lower than the score in our model training. It's ranked 1208. OK, save the model."
   ]
  },
  {
   "cell_type": "code",
   "execution_count": 16,
   "metadata": {},
   "outputs": [],
   "source": [
    "save_model(logreg, 'low-cardinality features', 0.41861, 1208)"
   ]
  },
  {
   "cell_type": "markdown",
   "metadata": {},
   "source": [
    "### High-cardinality categorical features\n",
    "Onehot encoding features with a high number of categories creates a high number of features, which could cause overfitting and suffer from the curse of dimensionality. Instead, I will apply feature hashing to control the number of features produced. I won't use `device_id` and `device_ip` as the their cardinalities are too high and they act as ID fields. `C20` has missing values encoded as `-1`. This is actually fine to consider missing values as another category."
   ]
  },
  {
   "cell_type": "code",
   "execution_count": 17,
   "metadata": {},
   "outputs": [
    {
     "name": "stdout",
     "output_type": "stream",
     "text": [
      "Model with all categorical attributes: 0.42200277489033605\n"
     ]
    }
   ],
   "source": [
    "cat_attribs = ['C1', 'banner_pos', 'site_category', 'app_category', 'device_type', 'device_conn_type', 'site_id', \n",
    "               'site_domain', 'app_id', 'app_domain', 'device_model', 'C14', 'C15', 'C16', 'C17', 'C18', 'C19', 'C20']\n",
    "\n",
    "# FeatureHasher requires string input instead of number\n",
    "for a in cat_attribs:\n",
    "    sample[a] = sample[a].astype('str')\n",
    "    \n",
    "train_data = sample[cat_attribs]\n",
    "hasher = FeatureHasher(n_features=500, input_type='string')\n",
    "train_data_prepared = hasher.transform(train_data.values)\n",
    "\n",
    "logreg = LogisticRegression(solver='lbfgs', max_iter=500)\n",
    "s = cross_val_score(logreg, train_data_prepared, labels, scoring='neg_log_loss', cv=5).mean()\n",
    "print('Model with all categorical attributes:', -s)"
   ]
  },
  {
   "cell_type": "markdown",
   "metadata": {},
   "source": [
    "Make another submission. The training score is better than using only low-cardinality attributes, but how's about the final prediction?"
   ]
  },
  {
   "cell_type": "code",
   "execution_count": 18,
   "metadata": {
    "scrolled": true
   },
   "outputs": [
    {
     "name": "stderr",
     "output_type": "stream",
     "text": [
      "/anaconda3/lib/python3.6/site-packages/ipykernel_launcher.py:3: SettingWithCopyWarning: \n",
      "A value is trying to be set on a copy of a slice from a DataFrame.\n",
      "Try using .loc[row_indexer,col_indexer] = value instead\n",
      "\n",
      "See the caveats in the documentation: http://pandas.pydata.org/pandas-docs/stable/indexing.html#indexing-view-versus-copy\n",
      "  This is separate from the ipykernel package so we can avoid doing imports until\n"
     ]
    }
   ],
   "source": [
    "test_data = click_data_test[cat_attribs]\n",
    "for a in cat_attribs:\n",
    "    test_data[a] = test_data[a].astype('str')\n",
    "    \n",
    "test_data_prepared = hasher.transform(test_data.values)\n",
    "logreg.fit(train_data_prepared, labels)\n",
    "preds = logreg.predict_proba(test_data_prepared)\n",
    "generate_submission_file(preds)"
   ]
  },
  {
   "cell_type": "markdown",
   "metadata": {},
   "source": [
    "PL 0.41605, a tiny improvement and ranked  much lower than the score in our model training. It's ranked 1191. OK, save the model."
   ]
  },
  {
   "cell_type": "code",
   "execution_count": 19,
   "metadata": {},
   "outputs": [],
   "source": [
    "save_model(logreg, 'all categorical features with feature hashing', 0.41605, 1191)"
   ]
  },
  {
   "cell_type": "markdown",
   "metadata": {},
   "source": [
    "### `hour` feature\n",
    "This temporal feature is the only one left. As explored previously, we can derive two more features: hour of the day and day of the week."
   ]
  },
  {
   "cell_type": "code",
   "execution_count": 32,
   "metadata": {},
   "outputs": [
    {
     "name": "stderr",
     "output_type": "stream",
     "text": [
      "/anaconda3/lib/python3.6/site-packages/sklearn/preprocessing/data.py:645: DataConversionWarning: Data with input dtype int64 were all converted to float64 by StandardScaler.\n",
      "  return self.partial_fit(X, y)\n",
      "/anaconda3/lib/python3.6/site-packages/sklearn/base.py:464: DataConversionWarning: Data with input dtype int64 were all converted to float64 by StandardScaler.\n",
      "  return self.fit(X, **fit_params).transform(X)\n"
     ]
    }
   ],
   "source": [
    "sample['hour_of_day'] = sample['hour'].dt.hour\n",
    "sample['day_of_week'] = sample['hour'].dt.weekday\n",
    "num_attribs = ['hour_of_day', 'day_of_week']\n",
    "\n",
    "# Feature scaling\n",
    "scaler = StandardScaler()\n",
    "num_data = scaler.fit_transform(sample[num_attribs])"
   ]
  },
  {
   "cell_type": "code",
   "execution_count": 23,
   "metadata": {},
   "outputs": [],
   "source": [
    "cat_attribs = ['C1', 'banner_pos', 'site_category', 'app_category', 'device_type', 'device_conn_type', 'site_id', \n",
    "               'site_domain', 'app_id', 'app_domain', 'device_model', 'C14', 'C15', 'C16', 'C17', 'C18', 'C19', 'C20']\n",
    "\n",
    "# FeatureHasher requires string input instead of number\n",
    "for a in cat_attribs:\n",
    "    sample[a] = sample[a].astype('str')\n",
    "    \n",
    "hasher = FeatureHasher(n_features=500, input_type='string')\n",
    "cat_data = hasher.transform(sample[cat_attribs].values)"
   ]
  },
  {
   "cell_type": "code",
   "execution_count": 33,
   "metadata": {},
   "outputs": [
    {
     "name": "stdout",
     "output_type": "stream",
     "text": [
      "Num data: (100000, 2)\n",
      "Cat data: (100000, 500)\n"
     ]
    }
   ],
   "source": [
    "print('Num data:', num_data.shape)\n",
    "print('Cat data:', cat_data.shape)"
   ]
  },
  {
   "cell_type": "code",
   "execution_count": 34,
   "metadata": {},
   "outputs": [
    {
     "name": "stdout",
     "output_type": "stream",
     "text": [
      "Model with all categorical attributes: 0.42306352082587306\n"
     ]
    }
   ],
   "source": [
    "train_data_prepared = hstack([num_data, cat_data])\n",
    "logreg = LogisticRegression(solver='lbfgs', max_iter=500)\n",
    "s = cross_val_score(logreg, train_data_prepared, labels, scoring='neg_log_loss', cv=5).mean()\n",
    "print('Model with all categorical attributes:', -s)"
   ]
  },
  {
   "cell_type": "markdown",
   "metadata": {},
   "source": [
    "The model doesn't improve though! So, I won't use those features. For the time allowed, I will stop the feature engineering here and move on to model tuning."
   ]
  }
 ],
 "metadata": {
  "kernelspec": {
   "display_name": "Python 3",
   "language": "python",
   "name": "python3"
  },
  "language_info": {
   "codemirror_mode": {
    "name": "ipython",
    "version": 3
   },
   "file_extension": ".py",
   "mimetype": "text/x-python",
   "name": "python",
   "nbconvert_exporter": "python",
   "pygments_lexer": "ipython3",
   "version": "3.6.7"
  },
  "toc": {
   "base_numbering": 1,
   "nav_menu": {},
   "number_sections": false,
   "sideBar": true,
   "skip_h1_title": true,
   "title_cell": "Contents",
   "title_sidebar": "Contents",
   "toc_cell": false,
   "toc_position": {},
   "toc_section_display": true,
   "toc_window_display": false
  }
 },
 "nbformat": 4,
 "nbformat_minor": 2
}
